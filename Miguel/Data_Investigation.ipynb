{
 "cells": [
  {
   "cell_type": "code",
   "execution_count": 175,
   "metadata": {},
   "outputs": [],
   "source": [
    "from __future__ import division, print_function\n",
    "import matplotlib.pyplot as plt\n",
    "import mplhep as hep\n",
    "import h5py\n",
    "import numpy as np\n",
    "import awkward1 as ak\n",
    "import pandas as pd\n",
    "import mplhep as hep\n",
    "import seaborn as sns"
   ]
  },
  {
   "cell_type": "code",
   "execution_count": 176,
   "metadata": {},
   "outputs": [],
   "source": [
    "PATH = \"/eos/home-m/malvesga/SWAN_projects/output_AQAg/\" # Caminho comum para todos os arquivos .h5"
   ]
  },
  {
   "cell_type": "markdown",
   "metadata": {},
   "source": [
    "# Função que abre os arquivos .h5"
   ]
  },
  {
   "cell_type": "code",
   "execution_count": 177,
   "metadata": {},
   "outputs": [],
   "source": [
    "def open_file( file ):\n",
    "    df = None\n",
    "    with h5py.File( file , 'r' ) as f:\n",
    "        #print ( list(f.keys()) )\n",
    "        dset = f['dados']\n",
    "        #print ( dset.shape )\n",
    "        #print ( dset[:,:] )\n",
    "        dset_columns = f['columns']\n",
    "        #print ( dset_columns.shape )\n",
    "        columns_ = list( dset_columns )\n",
    "        #print ( columns_ )\n",
    "        columns_str = [ item.decode(\"utf-8\") for item in columns_ ]\n",
    "        #print ( columns_str )\n",
    "        df = pd.DataFrame( dset, columns = columns_str )\n",
    "        array = np.array( dset )\n",
    "        #print ( df )    \n",
    "        return array\n",
    "        #return df"
   ]
  },
  {
   "cell_type": "markdown",
   "metadata": {},
   "source": [
    "# Luminosidade Integrada"
   ]
  },
  {
   "cell_type": "code",
   "execution_count": 178,
   "metadata": {},
   "outputs": [],
   "source": [
    "SingleMuon_Run2016B = 4.55\n",
    "SingleMuon_Run2016C = 1.59\n",
    "SingleMuon_Run2016G = 3.65\n",
    "Luminosidade        = SingleMuon_Run2016B + SingleMuon_Run2016C + SingleMuon_Run2016G "
   ]
  },
  {
   "cell_type": "markdown",
   "metadata": {},
   "source": [
    "# Amostras de Signal"
   ]
  },
  {
   "cell_type": "markdown",
   "metadata": {},
   "source": [
    "* ## Normalização "
   ]
  },
  {
   "cell_type": "markdown",
   "metadata": {},
   "source": [
    "Seção de Choque"
   ]
  },
  {
   "cell_type": "code",
   "execution_count": 179,
   "metadata": {},
   "outputs": [],
   "source": [
    "cross_section_SM       = 40.41*0.17\n",
    "cross_section_ANOMALO1 = 166.1*0.17 \n",
    "cross_section_ANOMALO2 = 41.90*0.17\n",
    "cross_section_ANOMALO3 = 48.75*0.17\n",
    "cross_section_ANOMALO4 = 61.14*0.17\n",
    "cross_section_ANOMALO5 = 41.58*0.17\n",
    "cross_section_ANOMALO6 = 44.93*0.17\n",
    "cross_section_ANOMALO7 = 58.18*0.17 \n",
    "cross_section_ANOMALO8 = 150.3*0.17"
   ]
  },
  {
   "cell_type": "markdown",
   "metadata": {},
   "source": [
    "Número de Eventos "
   ]
  },
  {
   "cell_type": "code",
   "execution_count": 180,
   "metadata": {},
   "outputs": [],
   "source": [
    "number_events_SM       = 35000\n",
    "number_events_ANOMALO1 = 35000\n",
    "number_events_ANOMALO2 = 35000\n",
    "number_events_ANOMALO3 = 35000\n",
    "number_events_ANOMALO4 = 35000\n",
    "number_events_ANOMALO5 = 35000\n",
    "number_events_ANOMALO6 = 35000\n",
    "number_events_ANOMALO7 = 35000\n",
    "number_events_ANOMALO8 = 35000"
   ]
  },
  {
   "cell_type": "markdown",
   "metadata": {},
   "source": [
    "Normalizacao dos eventos de SIGNAL"
   ]
  },
  {
   "cell_type": "code",
   "execution_count": 181,
   "metadata": {},
   "outputs": [],
   "source": [
    "norm_SM = ( cross_section_SM * Luminosidade ) / ( number_events_SM )\n",
    "norm_ANOMALO1 = ( cross_section_ANOMALO1 * Luminosidade ) / ( number_events_ANOMALO1 )\n",
    "norm_ANOMALO2 = ( cross_section_ANOMALO2 * Luminosidade ) / ( number_events_ANOMALO2 )\n",
    "norm_ANOMALO3 = ( cross_section_ANOMALO3 * Luminosidade ) / ( number_events_ANOMALO3 )\n",
    "norm_ANOMALO4 = ( cross_section_ANOMALO4 * Luminosidade ) / ( number_events_ANOMALO4 )\n",
    "norm_ANOMALO5 = ( cross_section_ANOMALO5 * Luminosidade ) / ( number_events_ANOMALO5 )\n",
    "norm_ANOMALO6 = ( cross_section_ANOMALO6 * Luminosidade ) / ( number_events_ANOMALO6 )\n",
    "norm_ANOMALO7 = ( cross_section_ANOMALO7 * Luminosidade ) / ( number_events_ANOMALO7 )\n",
    "norm_ANOMALO8 = ( cross_section_ANOMALO8 * Luminosidade ) / ( number_events_ANOMALO8 )"
   ]
  },
  {
   "cell_type": "markdown",
   "metadata": {},
   "source": [
    "* ## Importando as amostras de Signal"
   ]
  },
  {
   "cell_type": "code",
   "execution_count": 182,
   "metadata": {},
   "outputs": [],
   "source": [
    "SM = PATH + 'output-SM.h5'\n",
    "ANOMALO1 = PATH + 'output-ANOMALO1.h5'\n",
    "ANOMALO2 = PATH + 'output-ANOMALO2.h5'\n",
    "ANOMALO3 = PATH + 'output-ANOMALO3.h5'\n",
    "ANOMALO4 = PATH + 'output-ANOMALO4.h5'\n",
    "ANOMALO5 = PATH + 'output-ANOMALO5.h5'\n",
    "ANOMALO6 = PATH + 'output-ANOMALO6.h5'\n",
    "ANOMALO7 = PATH + 'output-ANOMALO7.h5'\n",
    "ANOMALO8 = PATH + 'output-ANOMALO8.h5'"
   ]
  },
  {
   "cell_type": "code",
   "execution_count": 183,
   "metadata": {},
   "outputs": [],
   "source": [
    "SM =       open_file(SM)\n",
    "ANOMALO1 = open_file(ANOMALO1)\n",
    "ANOMALO2 = open_file(ANOMALO2)\n",
    "ANOMALO3 = open_file(ANOMALO3)\n",
    "ANOMALO4 = open_file(ANOMALO4)\n",
    "ANOMALO5 = open_file(ANOMALO5)\n",
    "ANOMALO6 = open_file(ANOMALO6)\n",
    "ANOMALO7 = open_file(ANOMALO7)\n",
    "ANOMALO8 = open_file(ANOMALO8)"
   ]
  },
  {
   "cell_type": "markdown",
   "metadata": {},
   "source": [
    "## Concatenando os pesos no array dos eventos "
   ]
  },
  {
   "cell_type": "code",
   "execution_count": 184,
   "metadata": {},
   "outputs": [],
   "source": [
    "weight_SM = np.array( [ norm_SM ]*len( SM ) ).reshape(-1,1)\n",
    "SM = np.concatenate( ( SM , weight_SM ) , axis = 1 )\n",
    "\n",
    "weight_ANOMALO1 = np.array( [ norm_ANOMALO1 ]*len( ANOMALO1 ) ).reshape(-1,1)\n",
    "ANOMALO1 = np.concatenate( ( ANOMALO1 , weight_ANOMALO1 ) , axis = 1 )\n",
    "\n",
    "weight_ANOMALO2 = np.array( [ norm_ANOMALO2 ]*len( ANOMALO2 ) ).reshape(-1,1)\n",
    "ANOMALO2 = np.concatenate( ( ANOMALO2 , weight_ANOMALO2 ) , axis = 1 )\n",
    "\n",
    "weight_ANOMALO3 = np.array( [ norm_ANOMALO3 ]*len( ANOMALO3 ) ).reshape(-1,1)\n",
    "ANOMALO3 = np.concatenate( ( ANOMALO3 , weight_ANOMALO3 ) , axis = 1 )\n",
    "\n",
    "weight_ANOMALO4 = np.array( [ norm_ANOMALO4 ]*len( ANOMALO4 ) ).reshape(-1,1)\n",
    "ANOMALO4 = np.concatenate( ( ANOMALO4 , weight_ANOMALO4 ) , axis = 1 )\n",
    "\n",
    "weight_ANOMALO5 = np.array( [ norm_ANOMALO5 ]*len( ANOMALO5 ) ).reshape(-1,1)\n",
    "ANOMALO5 = np.concatenate( ( ANOMALO5 , weight_ANOMALO5 ) , axis = 1 )\n",
    "\n",
    "weight_ANOMALO6 = np.array( [ norm_ANOMALO6 ]*len( ANOMALO6 ) ).reshape(-1,1)\n",
    "ANOMALO6= np.concatenate( ( ANOMALO6, weight_ANOMALO6) , axis = 1 )\n",
    "\n",
    "weight_ANOMALO5 = np.array( [ norm_ANOMALO5 ]*len( ANOMALO5 ) ).reshape(-1,1)\n",
    "ANOMALO6= np.concatenate( ( ANOMALO6, weight_ANOMALO6) , axis = 1 )\n",
    "\n",
    "weight_ANOMALO7= np.array( [ norm_ANOMALO7]*len( ANOMALO7) ).reshape(-1,1)\n",
    "ANOMALO7= np.concatenate( ( ANOMALO7, weight_ANOMALO7) , axis = 1 )\n",
    "\n",
    "weight_ANOMALO8= np.array( [ norm_ANOMALO8]*len( ANOMALO8) ).reshape(-1,1)\n",
    "ANOMALO8= np.concatenate( ( ANOMALO8, weight_ANOMALO8) , axis = 1 )"
   ]
  },
  {
   "cell_type": "markdown",
   "metadata": {},
   "source": [
    "# Amostras de Background"
   ]
  },
  {
   "cell_type": "markdown",
   "metadata": {},
   "source": [
    "* ## Normalização "
   ]
  },
  {
   "cell_type": "markdown",
   "metadata": {},
   "source": [
    "Seção de Choque"
   ]
  },
  {
   "cell_type": "code",
   "execution_count": 185,
   "metadata": {},
   "outputs": [],
   "source": [
    "cross_section_TT = 831.7\n",
    "cross_section_inclusive_WZ = 10.73\n",
    "cross_section_inclusive_WW = 49.997\n",
    "cross_section_inclusive_ZZ = 3.28\n",
    "cross_section_ST_s_channel = 3.365\n",
    "cross_section_ST_t_channel_top = 136.02\n",
    "cross_section_ST_t_channel_antitop = 80.95\n",
    "cross_section_ST_tW_top= 35.85\n",
    "cross_section_ST_tW_antitop = 35.85\n",
    "cross_section_DYJetsToLL_Pt_100To250 = 83.12\n",
    "cross_section_DYJetsToLL_Pt_250To400 = 3.047\n",
    "cross_section_DYJetsToLL_Pt_400To650 = 0.3921\n",
    "cross_section_DYJetsToLL_Pt_650ToInf = 0.0363\n",
    "cross_section_QCD_Pt_170to300 = 8654\n",
    "cross_section_QCD_Pt_300to470 = 797.3\n",
    "cross_section_QCD_Pt_470to600 = 79.0\n",
    "cross_section_QCD_Pt_600to800 = 25.09\n",
    "cross_section_QCD_Pt_800to1000 = 4.7\n",
    "cross_section_QCD_Pt_1000toInf = 1.6\n",
    "cross_section_WJetsToLNu_Pt_100To250 = 677.82\n",
    "cross_section_WJetsToLNu_Pt_250To400 = 24.083\n",
    "cross_section_WJetsToLNu_Pt_400To600 = 3.0563\n",
    "cross_section_WJetsToLNu_Pt_600ToInf = 0.4602"
   ]
  },
  {
   "cell_type": "markdown",
   "metadata": {},
   "source": [
    "Número de Eventos"
   ]
  },
  {
   "cell_type": "code",
   "execution_count": 186,
   "metadata": {},
   "outputs": [],
   "source": [
    "number_events_TT = 76915549\n",
    "number_events_inclusive_WZ = 24311445\n",
    "number_events_inclusive_WW = 6655400 + 1999200\n",
    "number_events_inclusive_ZZ = 15061141 + 755866\n",
    "number_events_ST_s_channel = 1000000\n",
    "number_events_ST_t_channel_top = 43864048\n",
    "number_events_ST_t_channel_antitop = 38811017\n",
    "number_events_ST_tW_top = 6952830\n",
    "number_events_ST_tW_antitop = 6933094\n",
    "number_events_DYJetsToLL_Pt_100To250 =  2991815 + 2805972 + 2046961\n",
    "number_events_DYJetsToLL_Pt_250To400 = 47559302 + 594317 + 590806 + 423976\n",
    "number_events_DYJetsToLL_Pt_400To650 = 604038 + 589842 + 432056\n",
    "number_events_DYJetsToLL_Pt_650ToInf = 597526 + 430691\n",
    "number_events_QCD_Pt_170to300 = 19789673 + 7947159\n",
    "number_events_QCD_Pt_300to470 = 24605508 + 16462878 + 7937590\n",
    "number_events_QCD_Pt_470to600 = 9847664 + 5668793 + 3972819\n",
    "number_events_QCD_Pt_600to800 = 9928218 + 5971175 + 401013\n",
    "number_events_QCD_Pt_800to1000 = 9966149 + 6011849 + 3962749\n",
    "number_events_QCD_Pt_1000toInf = 9638102 + 3990117\n",
    "number_events_WJetsToLNu_Pt_100To250 = 10088599 + 9944879\n",
    "number_events_WJetsToLNu_Pt_250To400 = 10021205 + 1001250 + 1000132\n",
    "number_events_WJetsToLNu_Pt_400To600 = 988234 + 951713\n",
    "number_events_WJetsToLNu_Pt_600ToInf = 985127 + 989482"
   ]
  },
  {
   "cell_type": "markdown",
   "metadata": {},
   "source": [
    "Normalizacao dos eventos de BACKGROUND "
   ]
  },
  {
   "cell_type": "code",
   "execution_count": 187,
   "metadata": {},
   "outputs": [],
   "source": [
    "norm_TT = ( cross_section_TT*1000 * Luminosidade ) / number_events_TT\n",
    "norm_inclusive_WZ = ( cross_section_inclusive_WZ*1000 * Luminosidade ) / number_events_inclusive_WZ\n",
    "norm_inclusive_ZZ = ( cross_section_inclusive_ZZ*1000 * Luminosidade ) / number_events_inclusive_ZZ\n",
    "norm_inclusive_WW = ( cross_section_inclusive_WW*1000 * Luminosidade ) / number_events_inclusive_WW\n",
    "norm_ST_s_channel = ( cross_section_ST_s_channel*1000 * Luminosidade ) / number_events_ST_s_channel\n",
    "norm_ST_t_channel_top = ( cross_section_ST_t_channel_top*1000 * Luminosidade ) / number_events_ST_t_channel_top\n",
    "norm_ST_t_channel_antitop = ( cross_section_ST_t_channel_antitop*1000 * Luminosidade) / number_events_ST_t_channel_antitop\n",
    "norm_ST_tW_antitop = ( cross_section_ST_tW_antitop * Luminosidade*1000 ) / number_events_ST_tW_antitop\n",
    "norm_ST_tW_top = ( cross_section_ST_tW_top*1000 * Luminosidade) / number_events_ST_tW_top\n",
    "norm_QCD_Pt_170to300  = ( cross_section_QCD_Pt_170to300*1000  * Luminosidade ) / ( number_events_QCD_Pt_170to300  )\n",
    "norm_QCD_Pt_300to470  = ( cross_section_QCD_Pt_300to470*1000  * Luminosidade ) / ( number_events_QCD_Pt_300to470  )\n",
    "norm_QCD_Pt_470to600  = ( cross_section_QCD_Pt_470to600*1000  * Luminosidade ) / ( number_events_QCD_Pt_470to600  )\n",
    "norm_QCD_Pt_600to800  = ( cross_section_QCD_Pt_600to800*1000  * Luminosidade ) / ( number_events_QCD_Pt_600to800  )\n",
    "norm_QCD_Pt_800to1000 = ( cross_section_QCD_Pt_800to1000*1000 * Luminosidade ) / ( number_events_QCD_Pt_800to1000 )\n",
    "norm_QCD_Pt_1000toInf = ( cross_section_QCD_Pt_1000toInf*1000 * Luminosidade ) / ( number_events_QCD_Pt_1000toInf )\n",
    "norm_DYJetsToLL_Pt_100To250 = ( cross_section_DYJetsToLL_Pt_100To250*1000 * Luminosidade ) / ( number_events_DYJetsToLL_Pt_100To250 )\n",
    "norm_DYJetsToLL_Pt_250To400 = ( cross_section_DYJetsToLL_Pt_250To400*1000 * Luminosidade ) / ( number_events_DYJetsToLL_Pt_250To400 )\n",
    "norm_DYJetsToLL_Pt_400To650 = ( cross_section_DYJetsToLL_Pt_400To650*1000 * Luminosidade ) / ( number_events_DYJetsToLL_Pt_400To650 )\n",
    "norm_DYJetsToLL_Pt_650ToInf = ( cross_section_DYJetsToLL_Pt_650ToInf*1000 * Luminosidade ) / ( number_events_DYJetsToLL_Pt_650ToInf )\n",
    "\n",
    "# Miguel, fazer a norm do W+jatos\n",
    "\n",
    "norm_WJetsToLNu_Pt_100To250 = ( cross_section_WJetsToLNu_Pt_100To250*1000 * Luminosidade ) / ( number_events_WJetsToLNu_Pt_100To250 )\n",
    "norm_WJetsToLNu_Pt_250To400 = ( cross_section_WJetsToLNu_Pt_250To400*1000 * Luminosidade ) / ( number_events_WJetsToLNu_Pt_250To400 )\n",
    "norm_WJetsToLNu_Pt_400To600 = ( cross_section_WJetsToLNu_Pt_400To600*1000 * Luminosidade ) / ( number_events_WJetsToLNu_Pt_400To600 )\n",
    "norm_WJetsToLNu_Pt_600ToInf = ( cross_section_WJetsToLNu_Pt_600ToInf*1000 * Luminosidade ) / ( number_events_WJetsToLNu_Pt_600ToInf )"
   ]
  },
  {
   "cell_type": "markdown",
   "metadata": {},
   "source": [
    "* ## Importando as amostras de Background"
   ]
  },
  {
   "cell_type": "markdown",
   "metadata": {},
   "source": [
    "* DRELL YAN"
   ]
  },
  {
   "cell_type": "code",
   "execution_count": 188,
   "metadata": {},
   "outputs": [],
   "source": [
    "# Pt entre 100 e 250 GeV\n",
    "DY_100_250_2 = PATH + 'output-DY_100_250_2.h5'\n",
    "DY_100_250_3 = PATH + 'output-DY_100_250_3.h5'\n",
    "DY_100_250_4 = PATH + 'output-DY_100_250_4.h5'\n",
    "\n",
    "DY_100_250 = np.concatenate(  ( open_file( DY_100_250_2 ), \n",
    "                                open_file( DY_100_250_3 ), \n",
    "                                open_file( DY_100_250_4 ) )  , axis = 0 ) \n",
    "\n",
    "weight_DY_100_250 = np.array( [ norm_DYJetsToLL_Pt_100To250 ]*len( DY_100_250 ) ).reshape(-1,1)\n",
    "\n",
    "DY_100_250 = np.concatenate( ( DY_100_250 , weight_DY_100_250 ) , axis = 1 )\n",
    "\n",
    "# Miguel, fazer o caso acima para todos os arquivos, tanto back quanto signal\n",
    "\n",
    "# Pt entre 250 e 400 GeV\n",
    "DY_250_400_2 = PATH + 'output-DY_250_400_2.h5'\n",
    "DY_250_400_3 = PATH + 'output-DY_250_400_3.h5'\n",
    "DY_250_400_4 = PATH + 'output-DY_250_400_4.h5'\n",
    "\n",
    "DY_250_400 = np.concatenate(  ( open_file( DY_250_400_2 ), \n",
    "                                open_file( DY_250_400_3 ), \n",
    "                                open_file( DY_250_400_4 ) )  , axis = 0 ) \n",
    "\n",
    "weight_DY_250_400 = np.array( [ norm_DYJetsToLL_Pt_250To400 ]*len( DY_250_400 ) ).reshape(-1,1)\n",
    "\n",
    "DY_250_400 = np.concatenate( ( DY_250_400 , weight_DY_250_400 ) , axis = 1 )\n",
    "\n",
    "# Pt entre 400 e 650 GeV\n",
    "DY_400_650_1 = PATH + 'output-DY_400_650_1.h5'\n",
    "DY_400_650_2 = PATH + 'output-DY_400_650_2.h5'\n",
    "DY_400_650_3 = PATH + 'output-DY_400_650_3.h5'\n",
    "\n",
    "DY_400_650 = np.concatenate(  ( open_file( DY_400_650_1 ), \n",
    "                                open_file( DY_400_650_2 ), \n",
    "                                open_file( DY_400_650_3 ) )  , axis = 0 ) \n",
    "\n",
    "weight_DY_400_650 = np.array( [ norm_DYJetsToLL_Pt_400To650 ]*len( DY_400_650 ) ).reshape(-1,1)\n",
    "\n",
    "DY_400_650 = np.concatenate( ( DY_400_650 , weight_DY_400_650 ) , axis = 1 )\n",
    "\n",
    "# Pt entre 650 e infinito GeV\n",
    "DY_650_INF_1 = PATH + 'output-DY_650_INF_1.h5'\n",
    "DY_650_INF_2 = PATH + 'output-DY_650_INF_2.h5'\n",
    "\n",
    "DY_650_INF = np.concatenate(  ( open_file( DY_650_INF_1 ), \n",
    "                                open_file( DY_650_INF_2 ) )  , axis = 0 ) \n",
    "\n",
    "weight_DY_650_INF = np.array( [ norm_DYJetsToLL_Pt_650ToInf ]*len( DY_650_INF ) ).reshape(-1,1)\n",
    "\n",
    "DY_650_INF = np.concatenate( ( DY_650_INF , weight_DY_650_INF ) , axis = 1 )"
   ]
  },
  {
   "cell_type": "code",
   "execution_count": 189,
   "metadata": {},
   "outputs": [],
   "source": [
    "# Concatenando todas as constribuições de Pt para o Drell-Yan\n",
    "Drell_Yan = np.concatenate( ( DY_100_250 , DY_250_400 , DY_400_650 , DY_650_INF ) , axis = 0  ) "
   ]
  },
  {
   "cell_type": "markdown",
   "metadata": {},
   "source": [
    "* QCD"
   ]
  },
  {
   "cell_type": "code",
   "execution_count": 190,
   "metadata": {},
   "outputs": [],
   "source": [
    "# Pt entre 170 e 300 GeV\n",
    "QCD_170_300_1 = PATH + 'output-QCD_170_300_1.h5'\n",
    "QCD_170_300_3 = PATH + 'output-QCD_170_300_3.h5'\n",
    "\n",
    "QCD_170_300 = np.concatenate(  ( open_file( QCD_170_300_1 ), \n",
    "                                 open_file( QCD_170_300_3 ) )  , axis = 0 ) \n",
    "\n",
    "weight_QCD_170_300 = np.array( [ norm_QCD_Pt_170to300 ]*len( QCD_170_300 ) ).reshape(-1,1)\n",
    "\n",
    "QCD_170_300 = np.concatenate( ( QCD_170_300 , weight_QCD_170_300 ) , axis = 1 )\n",
    "\n",
    "# Pt entre 300 e 470 GeV\n",
    "QCD_300_470_1 = PATH + 'output-QCD_300_470_1.h5'\n",
    "QCD_300_470_2 = PATH + 'output-QCD_300_470_2.h5'\n",
    "QCD_300_470_3 = PATH + 'output-QCD_300_470_3.h5'\n",
    "\n",
    "QCD_300_470 = np.concatenate(  ( open_file( QCD_300_470_1 ), \n",
    "                                 open_file( QCD_300_470_2 ),\n",
    "                                 open_file( QCD_300_470_3 ) )  , axis = 0 ) \n",
    "\n",
    "weight_QCD_300_470 = np.array( [ norm_QCD_Pt_300to470 ]*len( QCD_300_470 ) ).reshape(-1,1)\n",
    "\n",
    "QCD_300_470 = np.concatenate( ( QCD_300_470 , weight_QCD_300_470 ) , axis = 1 )\n",
    "\n",
    "# Pt entre 470 e 600 GeV\n",
    "QCD_470_600_1 = PATH + 'output-QCD_470_600_1.h5'\n",
    "QCD_470_600_2 = PATH + 'output-QCD_470_600_2.h5'\n",
    "QCD_470_600_3 = PATH + 'output-QCD_470_600_3.h5'\n",
    "\n",
    "QCD_470_600 = np.concatenate(  ( open_file( QCD_470_600_1 ), \n",
    "                                 open_file( QCD_470_600_2 ),\n",
    "                                 open_file( QCD_470_600_3 ) )  , axis = 0 ) \n",
    "\n",
    "weight_QCD_470_600 = np.array( [ norm_QCD_Pt_470to600 ]*len( QCD_470_600 ) ).reshape(-1,1)\n",
    "\n",
    "QCD_470_600 = np.concatenate( ( QCD_470_600 , weight_QCD_470_600 ) , axis = 1 )\n",
    "\n",
    "# Pt entre 600 e 800 GeV\n",
    "QCD_600_800_1 = PATH + 'output-QCD_600_800_1.h5'\n",
    "QCD_600_800_2 = PATH + 'output-QCD_600_800_2.h5'\n",
    "QCD_600_800_3 = PATH + 'output-QCD_600_800_3.h5'\n",
    "\n",
    "QCD_600_800 = np.concatenate(  ( open_file( QCD_600_800_1 ), \n",
    "                                 open_file( QCD_600_800_2 ),\n",
    "                                 open_file( QCD_600_800_3 ) )  , axis = 0 ) \n",
    "\n",
    "weight_QCD_600_800 = np.array( [ norm_QCD_Pt_600to800 ]*len( QCD_600_800 ) ).reshape(-1,1)\n",
    "\n",
    "QCD_600_800 = np.concatenate( ( QCD_600_800 , weight_QCD_600_800 ) , axis = 1 )\n",
    "\n",
    "# Pt entre 800 e 1000 GeV\n",
    "QCD_800_1000_1 = PATH + 'output-QCD_800_1000_1.h5'\n",
    "QCD_800_1000_2 = PATH + 'output-QCD_800_1000_2.h5'\n",
    "QCD_800_1000_3 = PATH + 'output-QCD_800_1000_3.h5'\n",
    "\n",
    "QCD_800_1000 = np.concatenate(  ( open_file( QCD_800_1000_1 ), \n",
    "                                  open_file( QCD_800_1000_2 ),\n",
    "                                  open_file( QCD_800_1000_3 ) )  , axis = 0 ) \n",
    "\n",
    "weight_QCD_800_1000 = np.array( [ norm_QCD_Pt_800to1000 ]*len( QCD_800_1000 ) ).reshape(-1,1)\n",
    "\n",
    "QCD_800_1000 = np.concatenate( ( QCD_800_1000 , weight_QCD_800_1000 ) , axis = 1 )\n",
    "\n",
    "# Pt entre 1000 e infinito GeV\n",
    "QCD_1000_inf_1 = PATH +'output-QCD_1000_inf_1.h5'\n",
    "QCD_1000_inf_2 = PATH +'output-QCD_1000_inf_2.h5'\n",
    "\n",
    "QCD_1000_inf = np.concatenate(  ( open_file( QCD_1000_inf_1 ), \n",
    "                                  open_file( QCD_1000_inf_2 ) )  , axis = 0 ) \n",
    "\n",
    "weight_QCD_1000_inf = np.array( [ norm_QCD_Pt_1000toInf ]*len( QCD_1000_inf ) ).reshape(-1,1)\n",
    "\n",
    "QCD_1000_inf = np.concatenate( ( QCD_1000_inf , weight_QCD_1000_inf ) , axis = 1 )"
   ]
  },
  {
   "cell_type": "code",
   "execution_count": 191,
   "metadata": {},
   "outputs": [],
   "source": [
    "# Concatenando todas as constribuições de Pt para o QCD\n",
    "QCD = np.concatenate( ( QCD_170_300 , QCD_300_470 , QCD_470_600 , QCD_600_800 , QCD_800_1000 , QCD_1000_inf ) , axis = 0 )"
   ]
  },
  {
   "cell_type": "markdown",
   "metadata": {},
   "source": [
    "* SINGLE ANTI-TOP"
   ]
  },
  {
   "cell_type": "code",
   "execution_count": 192,
   "metadata": {},
   "outputs": [],
   "source": [
    "Single_Antitop = PATH + 'output-Single_Antitop.h5'\n",
    "file_Single_Antitop = open_file(Single_Antitop)\n",
    "\n",
    "weight_ST_tW_antitop = np.array( [ norm_ST_tW_antitop ]*len( file_Single_Antitop ) ).reshape(-1,1)\n",
    "Single_Antitop = np.concatenate( ( file_Single_Antitop , weight_ST_tW_antitop ) , axis = 1 )"
   ]
  },
  {
   "cell_type": "markdown",
   "metadata": {},
   "source": [
    "* SINGLE ANTI-TOP tCHANEL"
   ]
  },
  {
   "cell_type": "code",
   "execution_count": 193,
   "metadata": {},
   "outputs": [],
   "source": [
    "Single_Antitop_tChannel = PATH + 'output-Single_Antitop_tChannel.h5'\n",
    "file_Single_Antitop_tChannel = open_file(Single_Antitop_tChannel)\n",
    "\n",
    "weight_Antitop_tChannel = np.array( [ norm_ST_t_channel_antitop ]*len( file_Single_Antitop_tChannel ) ).reshape(-1,1)\n",
    "Single_Antitop_tChannel = np.concatenate( ( file_Single_Antitop_tChannel , weight_Antitop_tChannel ) , axis = 1 )"
   ]
  },
  {
   "cell_type": "markdown",
   "metadata": {},
   "source": [
    "* SINGLE TOP"
   ]
  },
  {
   "cell_type": "code",
   "execution_count": 194,
   "metadata": {},
   "outputs": [],
   "source": [
    "Single_Top = PATH + 'output-Single_Top.h5'\n",
    "file_Single_Top = open_file(Single_Top)\n",
    "\n",
    "weight_Single_Top = np.array( [ norm_ST_tW_top ]*len( file_Single_Top ) ).reshape(-1,1)\n",
    "Single_Top = np.concatenate( ( file_Single_Top , weight_Single_Top ) , axis = 1 )"
   ]
  },
  {
   "cell_type": "markdown",
   "metadata": {},
   "source": [
    "* SINGLE TOP sCHANNEL"
   ]
  },
  {
   "cell_type": "code",
   "execution_count": 195,
   "metadata": {},
   "outputs": [],
   "source": [
    "Single_Top_sChanel = PATH + 'output-Single_Top_sChanel.h5'\n",
    "file_Single_Top_sChanel = open_file(Single_Top_sChanel)\n",
    "\n",
    "weight_Single_Top_sChanel = np.array( [ norm_ST_s_channel ]*len( file_Single_Top_sChanel ) ).reshape(-1,1)\n",
    "Single_Top_sChanel = np.concatenate( ( file_Single_Top_sChanel , weight_Single_Top_sChanel ) , axis = 1 )"
   ]
  },
  {
   "cell_type": "markdown",
   "metadata": {},
   "source": [
    "* SINGLE TOP tCHANNEL"
   ]
  },
  {
   "cell_type": "code",
   "execution_count": 196,
   "metadata": {},
   "outputs": [],
   "source": [
    "Single_Top_tChannel = PATH + 'output-Single_Top_tChannel.h5'\n",
    "file_Single_Top_tChannel = open_file(Single_Top_tChannel)\n",
    "\n",
    "weight_Single_Top_tChannel = np.array( [ norm_ST_t_channel_top ]*len( file_Single_Top_tChannel ) ).reshape(-1,1)\n",
    "Single_Top_tChannel = np.concatenate( ( file_Single_Top_tChannel , weight_Single_Top_tChannel ) , axis = 1 )"
   ]
  },
  {
   "cell_type": "code",
   "execution_count": 197,
   "metadata": {},
   "outputs": [],
   "source": [
    "single_top = np.concatenate( ( Single_Top_tChannel, \n",
    "                               Single_Top_sChanel , \n",
    "                               Single_Top , \n",
    "                               Single_Antitop_tChannel , \n",
    "                               Single_Antitop) , axis = 0 )"
   ]
  },
  {
   "cell_type": "markdown",
   "metadata": {},
   "source": [
    "* TTBAR"
   ]
  },
  {
   "cell_type": "code",
   "execution_count": 198,
   "metadata": {},
   "outputs": [],
   "source": [
    "TTbar = PATH + 'output-ttbar.h5'\n",
    "file_TTbar = open_file(TTbar)\n",
    "\n",
    "weight_Single_Top_sChanel = np.array( [ norm_TT ]*len( file_TTbar ) ).reshape(-1,1)\n",
    "TTbar = np.concatenate( ( file_TTbar , weight_Single_Top_sChanel ) , axis = 1 )"
   ]
  },
  {
   "cell_type": "markdown",
   "metadata": {},
   "source": [
    "* W + JETS"
   ]
  },
  {
   "cell_type": "code",
   "execution_count": 199,
   "metadata": {},
   "outputs": [],
   "source": [
    "# Pt entre 100 e 250 GeV\n",
    "WJets_100_250_2 = PATH + 'output-WJets_100_250_2.h5'\n",
    "WJets_100_250_3 = PATH + 'output-WJets_100_250_3.h5'\n",
    "\n",
    "WJets_100_250 = np.concatenate(  ( open_file( WJets_100_250_2 ), \n",
    "                                   open_file( WJets_100_250_3 ) )  , axis = 0 ) \n",
    "\n",
    "weight_WJets_100_250 = np.array( [ norm_WJetsToLNu_Pt_100To250 ]*len( WJets_100_250 ) ).reshape(-1,1)\n",
    "\n",
    "WJets_100_250 = np.concatenate( ( WJets_100_250 , weight_WJets_100_250 ) , axis = 1 )\n",
    "\n",
    "\n",
    "# Pt entre 250 e 400 GeV \n",
    "WJets_250_400_2 = PATH +'output-WJets_250_400_2.h5'\n",
    "WJets_250_400_3 = PATH + 'output-WJets_250_400_3.h5'\n",
    "\n",
    "WJets_250_400 = np.concatenate(  ( open_file( WJets_250_400_2 ), \n",
    "                                   open_file( WJets_250_400_3 ) )  , axis = 0 ) \n",
    "\n",
    "weight_WJets_250_400 = np.array( [ norm_WJetsToLNu_Pt_250To400 ]*len( WJets_250_400 ) ).reshape(-1,1)\n",
    "\n",
    "WJets_250_400 = np.concatenate( ( WJets_250_400 , weight_WJets_250_400 ) , axis = 1 )\n",
    "\n",
    "# Pt entre 400 e 600 GeV\n",
    "WJets_400_600_1 = PATH + 'output-WJets_400_600_1.h5'\n",
    "WJets_400_600_2 = PATH + 'output-WJets_400_600_2.h5'\n",
    "\n",
    "WJets_400_600 = np.concatenate(  ( open_file( WJets_400_600_1 ), \n",
    "                                   open_file( WJets_400_600_2 ) )  , axis = 0 ) \n",
    "\n",
    "weight_WJets_400_600 = np.array( [ norm_WJetsToLNu_Pt_400To600 ]*len( WJets_400_600 ) ).reshape(-1,1)\n",
    "\n",
    "WJets_400_600 = np.concatenate( ( WJets_400_600 , weight_WJets_400_600 ) , axis = 1 )\n",
    "\n",
    "# Pt entre 600 e infinito GeV\n",
    "WJets_600_inf_1 = PATH + 'output-WJets_600_inf_1.h5'\n",
    "WJets_600_inf_2 = PATH + 'output-WJets_600_inf_2.h5'\n",
    "\n",
    "WJets_600_inf = np.concatenate(  ( open_file( WJets_600_inf_1 ), \n",
    "                                   open_file( WJets_600_inf_2 ) )  , axis = 0 ) \n",
    "\n",
    "weight_WJets_600_inf = np.array( [ norm_WJetsToLNu_Pt_600ToInf ]*len( WJets_600_inf ) ).reshape(-1,1)\n",
    "\n",
    "WJets_600_inf = np.concatenate( ( WJets_600_inf , weight_WJets_600_inf ) , axis = 1 )"
   ]
  },
  {
   "cell_type": "code",
   "execution_count": 200,
   "metadata": {},
   "outputs": [],
   "source": [
    "# Concatenando todas as constribuições de Pt para o W + Jets\n",
    "WJets = np.concatenate( ( WJets_100_250 , WJets_250_400 , WJets_400_600 , WJets_600_inf ) , axis = 0 )"
   ]
  },
  {
   "cell_type": "markdown",
   "metadata": {},
   "source": [
    "* INCLUSIVO WW"
   ]
  },
  {
   "cell_type": "code",
   "execution_count": 201,
   "metadata": {},
   "outputs": [],
   "source": [
    "WW_1 = PATH + 'output-WW1.h5'\n",
    "WW_2 = PATH + 'output-WW2.h5'\n",
    "\n",
    "WW = np.concatenate(  ( open_file( WW_1 ), \n",
    "                        open_file( WW_2 ) )  , axis = 0 ) \n",
    "\n",
    "weight_WW = np.array( [ norm_inclusive_WW ]*len( WW ) ).reshape(-1,1)\n",
    "\n",
    "WW = np.concatenate( ( WW , weight_WW ) , axis = 1 )"
   ]
  },
  {
   "cell_type": "markdown",
   "metadata": {},
   "source": [
    "* INCLUSIVO WZ"
   ]
  },
  {
   "cell_type": "code",
   "execution_count": 202,
   "metadata": {},
   "outputs": [],
   "source": [
    "WZ = PATH + 'output-WZ.h5'\n",
    "file_WZ = open_file(WZ)\n",
    "\n",
    "weight_WZ = np.array( [ norm_inclusive_WZ ]*len( file_WZ ) ).reshape(-1,1)\n",
    "WZ = np.concatenate( ( file_WZ , weight_WZ ) , axis = 1 )"
   ]
  },
  {
   "cell_type": "markdown",
   "metadata": {},
   "source": [
    "* INCLUSIVO ZZ"
   ]
  },
  {
   "cell_type": "code",
   "execution_count": 203,
   "metadata": {},
   "outputs": [],
   "source": [
    "ZZ_1 = PATH + 'output-ZZ1.h5'\n",
    "ZZ_2 = PATH + 'output-ZZ2.h5'\n",
    "\n",
    "ZZ = np.concatenate(  ( open_file( ZZ_1 ), \n",
    "                        open_file( ZZ_2 ) )  , axis = 0 ) \n",
    "\n",
    "weight_ZZ = np.array( [ norm_inclusive_ZZ ]*len( ZZ ) ).reshape(-1,1)\n",
    "\n",
    "ZZ = np.concatenate( ( ZZ , weight_ZZ ) , axis = 1 )"
   ]
  },
  {
   "cell_type": "code",
   "execution_count": 204,
   "metadata": {},
   "outputs": [],
   "source": [
    "VV_inclusivo = np.concatenate( ( WW , WZ , ZZ ) , axis = 0 )"
   ]
  },
  {
   "cell_type": "markdown",
   "metadata": {},
   "source": [
    "# Dados - 2016"
   ]
  },
  {
   "cell_type": "code",
   "execution_count": 205,
   "metadata": {},
   "outputs": [],
   "source": [
    "Data_B = open_file( PATH + 'output-Data_B.h5')\n",
    "Data_C = open_file( PATH + 'output-Data_C.h5')\n",
    "Data_G = open_file( PATH + 'output-Data_G.h5')\n",
    "Data_H = open_file( PATH + 'output-Data_H.h5')"
   ]
  },
  {
   "cell_type": "code",
   "execution_count": 206,
   "metadata": {},
   "outputs": [],
   "source": [
    "Dadinhos_reais = np.concatenate( ( Data_B , Data_C ,  Data_G ,  Data_H ) , axis = 0 )"
   ]
  },
  {
   "cell_type": "markdown",
   "metadata": {},
   "source": [
    "# Histogramas"
   ]
  },
  {
   "cell_type": "code",
   "execution_count": 207,
   "metadata": {},
   "outputs": [],
   "source": [
    "label_back = [ 'W+Jatos', 'ttbar', 'QCD' , 'Drell-Yan' , 'Single-Top' , '(WW, WZ, ZZ) Inclusivo' ]"
   ]
  },
  {
   "cell_type": "code",
   "execution_count": 208,
   "metadata": {},
   "outputs": [],
   "source": [
    "label_signal_0 = [\n",
    "r'WWCEP $\\alpha_{C}^{W}/\\Lambda^{2}=0.0$ (SM)',\n",
    "r'WWCEP $\\alpha_{C}^{W}/\\Lambda^{2}=2 \\times 10^{-5}$',\n",
    "r'WWCEP $\\alpha_{C}^{W}/\\Lambda^{2}=2 \\times 10^{-6}$',\n",
    "r'WWCEP $\\alpha_{C}^{W}/\\Lambda^{2}=5 \\times 10^{-6}$', \n",
    "r'WWCEP $\\alpha_{C}^{W}/\\Lambda^{2}=8 \\times 10^{-6}$'\n",
    "          ]\n",
    "\n",
    "label_signal_1 = [\n",
    "r'WWCEP $\\alpha_{0}^{W}/\\Lambda^{2} = 0.0$ (SM)',  \n",
    "r'WWCEP $\\alpha_{0}^{W}/\\Lambda^{2} = 0.5 \\times 10^{-6} $',\n",
    "r'WWCEP $\\alpha_{0}^{W}/\\Lambda^{2} = 1.0 \\times 10^{-6} $',\n",
    "r'WWCEP $\\alpha_{0}^{W}/\\Lambda^{2} = 2.0 \\times 10^{-6} $',\n",
    "r'WWCEP $\\alpha_{0}^{W}/\\Lambda^{2} = 5.0 \\times 10^{-6} $'\n",
    "          ]"
   ]
  },
  {
   "cell_type": "code",
   "execution_count": 209,
   "metadata": {},
   "outputs": [],
   "source": [
    "def plot(lista__back,lista_signal1,lista_signal2,bins0,bins1,label0,label1,xmin,xmax,fontsize_xlabel,lista_norm1,lista_norm2):\n",
    "    fig, axes = plt.subplots( 1, 2, figsize=(15,10) )\n",
    "    axes[0].hist( [lista__back,lista_signal1], bins = bins0, stacked=True, histtype = None, label=label0, density = False, weights = lista_norm1, color = ['blue','gold','red','cyan','lime','orange'] )\n",
    "    axes[0].hist( lista_backgr(0) , bins = 40, range = (0,3000), stacked = True , weights = lista_norm_back , label = label_back , color = ['blue','gold','red','cyan','lime','orange'] )\n",
    "    axes[0].legend(loc='best', fontsize=fontsize_leg)\n",
    "    axes[0].set_xlim(xmin,xmax)\n",
    "    axes[0].set_ylabel('Eventos', fontsize = 18)\n",
    "    axes[0].set_yscale('log')\n",
    "    axes[0] = hep.cms.label(llabel=\"Preliminary\", rlabel=\"$9.792 fb^{-1}$\", ax = axes[0])\n",
    "\n",
    "    axes[1].hist( [lista__back,lista_signal2], bins = bins1, stacked=True, histtype = None, label=label1, density = False, weights = lista_norm2, color = ['cyan', 'green', 'red', 'fuchsia','gold'] )\n",
    "    axes[1].legend(loc=loc_leg, fontsize=14)\n",
    "    axes[1].set_xlim(xmin,xmax)\n",
    "    axes[1].set_xlabel(xlabel,fontsize = 18)\n",
    "    axes[1].set_yscale('log')\n",
    "    axes[1] = hep.cms.label(llabel=\"Preliminary\", rlabel=\"$9.792 fb^{-1}$\", ax = axes[1])    \n",
    "    #plt.savefig(PATH_PLOT+'/{}.pdf'.format(name))\n",
    "    plt.show()"
   ]
  },
  {
   "cell_type": "markdown",
   "metadata": {},
   "source": [
    "* Numeração das colunas do numpy array\n",
    "\n",
    "0  --> massa do WW [:,0]\n",
    "\n",
    "1  --> Pt do W leptônico [:,1]\n",
    "\n",
    "2  --> DeltaPhi entre W_hadrônico e W_leptônico [:,2]\n",
    "\n",
    "3  --> DeltaPhi entre Jatos e o MET [:,3]\n",
    "\n",
    "4  --> jetAK8_pt [:,4]\n",
    "\n",
    "5  --> jetAK8_eta [:,5]\n",
    "\n",
    "6  --> jetAK8_prunedMass [:,6]\n",
    "\n",
    "7  --> jetAK8_tau21 [:,7]\n",
    "\n",
    "8  --> METPt [:,8]\n",
    "\n",
    "9  --> muon_pt [:,9]\n",
    "\n",
    "10 --> muon_eta [:,10]\n",
    "\n",
    "11 --> ExtraTracks [:,11]  "
   ]
  },
  {
   "cell_type": "markdown",
   "metadata": {},
   "source": [
    "### Como argumento da função, seleciona  o número correspondente para fazer o histograma desejado"
   ]
  },
  {
   "cell_type": "code",
   "execution_count": 210,
   "metadata": {},
   "outputs": [],
   "source": [
    "def lista_backgr(var):\n",
    "    return [ WJets[:,var],TTbar[:,var],QCD[:,var],Drell_Yan[:,var],single_top[:,var],VV_inclusivo[:,var] ]\n",
    "\n",
    "def lista_backgr_array_numpy(var):\n",
    "    return [ WJets_array_numpy[:,var],TTbar_array_numpy[:,var],QCD_array_numpy[:,var],Drell_Yan_array_numpy[:,var],single_top_array_numpy[:,var],VV_inclusivo_array_numpy[:,var] ]"
   ]
  },
  {
   "cell_type": "code",
   "execution_count": 211,
   "metadata": {},
   "outputs": [],
   "source": [
    "def lista_signal_0(var):\n",
    "    return [ SM[:,var] , ANOMALO1[:,var] , ANOMALO2[:,var] , ANOMALO3[:,var] , ANOMALO4[:,var] ]\n",
    "\n",
    "def lista_signal_1(var):\n",
    "    return [ SM[:,var] , ANOMALO5[:,var] , ANOMALO6[:,var] , ANOMALO7[:,var] , ANOMALO8[:,var] ]"
   ]
  },
  {
   "cell_type": "markdown",
   "metadata": {},
   "source": [
    "### Lista com as normalizações. Insere ele no 'weights = lista...' dentro do método plt.hist()"
   ]
  },
  {
   "cell_type": "code",
   "execution_count": 212,
   "metadata": {},
   "outputs": [],
   "source": [
    "lista_norm_back = [ WJets[:,12], TTbar[:,12], QCD[:,12], Drell_Yan[:,12], single_top[:,12], VV_inclusivo[:,12] ]"
   ]
  },
  {
   "cell_type": "code",
   "execution_count": 213,
   "metadata": {},
   "outputs": [],
   "source": [
    "lista_signal_0_norm = [ SM[:,12] , ANOMALO1[:,12] , ANOMALO2[:,12] , ANOMALO3[:,12] , ANOMALO4[:,12] ]\n",
    "lista_signal_1_norm = [ SM[:,12] , ANOMALO5[:,12] , ANOMALO6[:,12] , ANOMALO7[:,12] , ANOMALO8[:,12] ]"
   ]
  },
  {
   "cell_type": "markdown",
   "metadata": {},
   "source": [
    "## Cortes a serem aplicados"
   ]
  },
  {
   "cell_type": "code",
   "execution_count": 214,
   "metadata": {},
   "outputs": [],
   "source": [
    "def cuts(nome):\n",
    "    events = nome\n",
    "    events_cut = ( ( {}[:,0] >= 500 ).format(nome) & ( {}[:,1] >= 200 ).format(nome)  & ( {}[:,2] >= 2.0 ).format(nome) & ( {}[:,3] >= 2.0 ).format(nome) & ( {}[:,4] >= 200 ).format(nome) & ( {}[:,5] <= 2.4 ).format(nome) & ( {}[:,7] <= 0.6 ).format(nome) & ( {}[:,8] >= 40 ).format(nome) & ( {}[:,9] >= 53 ).format(nome)  & ( {}[:,10] <= 2.4 ).format(nome) )\n",
    "    return events[events_cut]\n"
   ]
  },
  {
   "cell_type": "markdown",
   "metadata": {},
   "source": [
    "### Background"
   ]
  },
  {
   "cell_type": "code",
   "execution_count": 215,
   "metadata": {},
   "outputs": [],
   "source": [
    "#WJets_cuts = cuts(WJets)\n",
    "\n",
    "WJets_cuts = ( ( WJets[:,0] >= 500 ) & ( WJets[:,1] >= 200 ) \n",
    "              & ( WJets[:,2] >= 2.0 ) & ( WJets[:,3] >= 2.0 ) \n",
    "              & ( WJets[:,4] >= 200 ) & ( WJets[:,5] <= 2.4 ) \n",
    "              & ( WJets[:,7] <= 0.6 ) & ( WJets[:,8] >= 40 ) \n",
    "              & ( WJets[:,9] >= 53 )  & ( WJets[:,10] <= 2.4 ) ) # realizando os cortes nas variáveis\n",
    "\n",
    "WJets_array_numpy = WJets[WJets_cuts]  \n",
    "\n",
    "TTbar_cuts = ( ( TTbar[:,0] >= 500 ) & ( TTbar[:,1] >= 200 ) \n",
    "              & ( TTbar[:,2] >= 2.0 ) & ( TTbar[:,3] >= 2.0 ) \n",
    "              & ( TTbar[:,4] >= 200 ) & ( TTbar[:,5] <= 2.4 ) \n",
    "              & ( TTbar[:,7] <= 0.6 ) & ( TTbar[:,8] >= 40 ) \n",
    "              & ( TTbar[:,9] >= 53 )  & ( TTbar[:,10] <= 2.4 ) ) \n",
    "\n",
    "TTbar_array_numpy = TTbar[TTbar_cuts]  \n",
    "\n",
    "QCD_cuts = ( ( QCD[:,0] >= 500 ) & ( QCD[:,1] >= 200 ) \n",
    "            & ( QCD[:,2] >= 2.0 ) & ( QCD[:,3] >= 2.0 ) \n",
    "            & ( QCD[:,4] >= 200 ) & ( QCD[:,5] <= 2.4 ) \n",
    "            & ( QCD[:,7] <= 0.6 ) & ( QCD[:,8] >= 40 ) \n",
    "            & ( QCD[:,9] >= 53 )  & ( QCD[:,10] <= 2.4 ) ) \n",
    "\n",
    "QCD_array_numpy = QCD[QCD_cuts]  \n",
    "\n",
    "Drell_Yan_cuts = ( ( Drell_Yan[:,0] >= 500 ) & ( Drell_Yan[:,1] >= 200 ) \n",
    "                  & ( Drell_Yan[:,2] >= 2.0 ) & ( Drell_Yan[:,3] >= 2.0 ) \n",
    "                  & ( Drell_Yan[:,4] >= 200 ) & ( Drell_Yan[:,5] <= 2.4 ) \n",
    "                  & ( Drell_Yan[:,7] <= 0.6 ) & ( Drell_Yan[:,8] >= 40 ) \n",
    "                  & ( Drell_Yan[:,9] >= 53 )  & ( Drell_Yan[:,10] <= 2.4 ) ) \n",
    "\n",
    "Drell_Yan_array_numpy = Drell_Yan[Drell_Yan_cuts]  \n",
    "\n",
    "single_top_cuts = ( ( single_top[:,0] >= 500 ) & ( single_top[:,1] >= 200 ) \n",
    "                   & ( single_top[:,2] >= 2.0 ) & ( single_top[:,3] >= 2.0 ) \n",
    "                   & ( single_top[:,4] >= 200 ) & ( single_top[:,5] <= 2.4 ) \n",
    "                   & ( single_top[:,7] <= 0.6 ) & ( single_top[:,8] >= 40 ) \n",
    "                   & ( single_top[:,9] >= 53 )  & ( single_top[:,10] <= 2.4 ) )\n",
    "\n",
    "single_top_array_numpy = single_top[single_top_cuts]  \n",
    "\n",
    "VV_inclusivo_cuts = ( ( VV_inclusivo[:,0] >= 500 ) & ( VV_inclusivo[:,1] >= 200 ) \n",
    "                     & ( VV_inclusivo[:,2] >= 2.0 ) & ( VV_inclusivo[:,3] >= 2.0 ) \n",
    "                     & ( VV_inclusivo[:,4] >= 200 ) & ( VV_inclusivo[:,5] <= 2.4 ) \n",
    "                     & ( VV_inclusivo[:,7] <= 0.6 ) & ( VV_inclusivo[:,8] >= 40 ) \n",
    "                     & ( VV_inclusivo[:,9] >= 53 )  & ( VV_inclusivo[:,10] <= 2.4 ) )\n",
    "\n",
    "VV_inclusivo_array_numpy = VV_inclusivo[VV_inclusivo_cuts]  \n"
   ]
  },
  {
   "cell_type": "code",
   "execution_count": 216,
   "metadata": {
    "scrolled": true
   },
   "outputs": [
    {
     "data": {
      "text/plain": [
       "[array([207.17885884, 276.89461445, 257.92010307, ..., 615.01613472,\n",
       "        849.86917767, 566.13774447]),\n",
       " array([210.83404051, 215.70842879, 285.73880372, ..., 241.22702292,\n",
       "        367.68862158, 304.99581073]),\n",
       " array([273.16099866, 372.77341175, 305.37893116, ..., 972.29966921,\n",
       "        223.82640918, 580.85070137]),\n",
       " array([215.02614249, 228.48527967, 295.2421972 , ..., 433.86165166,\n",
       "        926.70484472, 586.04954221]),\n",
       " array([344.03688282, 310.26544616, 285.80090785, ..., 245.75584969,\n",
       "        466.04478908, 339.45269412]),\n",
       " array([276.41160315, 322.72482585, 320.73754724, ..., 748.24652239,\n",
       "        299.12151415, 455.05565003])]"
      ]
     },
     "execution_count": 216,
     "metadata": {},
     "output_type": "execute_result"
    }
   ],
   "source": [
    "lista_backgr_array_numpy(1)"
   ]
  },
  {
   "cell_type": "markdown",
   "metadata": {},
   "source": [
    "### Dados"
   ]
  },
  {
   "cell_type": "code",
   "execution_count": 217,
   "metadata": {},
   "outputs": [],
   "source": [
    "Dadinhos_reais_cuts = ( ( Dadinhos_reais[:,0] >= 500 ) & ( Dadinhos_reais[:,1] >= 200 ) \n",
    "                       & ( Dadinhos_reais[:,2] >= 2.0 ) & ( Dadinhos_reais[:,3] >= 2.0 ) \n",
    "                       & ( Dadinhos_reais[:,4] >= 200 ) & ( Dadinhos_reais[:,5] <= 2.4 ) \n",
    "                       & ( Dadinhos_reais[:,7] <= 0.6 ) & ( Dadinhos_reais[:,8] >= 40 ) \n",
    "                       & ( Dadinhos_reais[:,9] >= 53 )  & ( Dadinhos_reais[:,10] <= 2.4 ) )\n",
    "\n",
    "Dadinhos_reais_array_numpy = Dadinhos_reais[Dadinhos_reais_cuts]  \n"
   ]
  },
  {
   "cell_type": "code",
   "execution_count": 218,
   "metadata": {},
   "outputs": [
    {
     "data": {
      "text/plain": [
       "array([355.45983226, 252.07668313, 306.45859139, ..., 215.65870389,\n",
       "       226.0590198 , 235.39634048])"
      ]
     },
     "execution_count": 218,
     "metadata": {},
     "output_type": "execute_result"
    }
   ],
   "source": [
    "Dadinhos_reais_array_numpy[:,1]"
   ]
  },
  {
   "cell_type": "markdown",
   "metadata": {},
   "source": [
    "### Como argumento da função, seleciona  o número correspondente para fazer o histograma desejado\n"
   ]
  },
  {
   "cell_type": "code",
   "execution_count": null,
   "metadata": {},
   "outputs": [],
   "source": []
  },
  {
   "cell_type": "code",
   "execution_count": 221,
   "metadata": {},
   "outputs": [
    {
     "data": {
      "image/png": "[encoded data removed]",
      "text/plain": [
       "<Figure size 432x288 with 1 Axes>"
      ]
     },
     "metadata": {
      "needs_background": "light"
     },
     "output_type": "display_data"
    }
   ],
   "source": [
    "#fazer uma função para montar os plots depois\n",
    "#fig, axes = plt.subplots( 1, 2, figsize=(15,10) )\n",
    "\n",
    "counts_1, bin_edges_1 = np.histogram( Dadinhos_reais_array_numpy[:,1] , bins = 40, range = (0,3000) )\n",
    "errors_1 = np.sqrt( counts_1 )\n",
    "bin_centres_1 = ( bin_edges_1[:-1] + bin_edges_1[1:] ) / 2.\n",
    "\n",
    "plt.hist( lista_backgr_array_numpy(1) , bins = 40, range = (0,3000), stacked = True , weights = lista_backgr_array_numpy(12) , label = label_back , color = ['blue','gold','red','cyan','lime','orange'] )\n",
    "#plt.hist( lista_signal_0(0) , bins = 40, range = (0,3000), histtype = 'step', weights = lista_signal_0_norm , label = label_signal_0 , color = ['red','olive','yellow','brown','fuchsia'] )\n",
    "plt.errorbar( bin_centres_1, counts_1, yerr=errors_1, xerr=abs(bin_centres_1[4] - bin_centres_1[5])/2,fmt='.', label = 'Dados-2016', color = 'black' )\n",
    "plt.legend(loc='best', fontsize=6)\n",
    "plt.xlim(0,4000)\n",
    "plt.xlabel(r'$\\mathcal{W}_{Pt^{lep}}$(GeV)', fontsize = 18)\n",
    "plt.ylabel('Eventos', fontsize = 18)\n",
    "plt.yscale('log')\n",
    "plt.plot = hep.cms.label(llabel=\"Preliminary\", rlabel=\"$9.792 fb^{-1}$\", ax = axes[0] , fontsize = 18)\n"
   ]
  },
  {
   "cell_type": "code",
   "execution_count": 225,
   "metadata": {},
   "outputs": [
    {
     "data": {
      "image/png": "[encoded data removed]",
      "text/plain": [
       "<Figure size 432x288 with 1 Axes>"
      ]
     },
     "metadata": {
      "needs_background": "light"
     },
     "output_type": "display_data"
    }
   ],
   "source": [
    "#fazer uma função para montar os plots depois\n",
    "#fig, axes = plt.subplots( 1, 2, figsize=(15,10) )\n",
    "\n",
    "counts_1, bin_edges_1 = np.histogram( Dadinhos_reais_array_numpy[:,11] , bins = 50, range = (0,100) )\n",
    "errors_1 = np.sqrt( counts_1 )\n",
    "bin_centres_1 = ( bin_edges_1[:-1] + bin_edges_1[1:] ) / 2.\n",
    "\n",
    "plt.hist( lista_backgr_array_numpy(11) , bins = 50, range = (0,100), stacked = True , weights = lista_backgr_array_numpy(12) , label = label_back , color = ['blue','gold','red','cyan','lime','orange'] )\n",
    "#plt.hist( lista_signal_0(0) , bins = 50, range = (0,100), histtype = 'step', weights = lista_signal_0_norm , label = label_signal_0 , color = ['red','olive','yellow','brown','fuchsia'] )\n",
    "plt.errorbar( bin_centres_1, counts_1, yerr=errors_1, xerr=abs(bin_centres_1[4] - bin_centres_1[5])/2,fmt='.', label = 'Dados-2016', color = 'black' )\n",
    "plt.legend(loc='best', fontsize=6)\n",
    "plt.xlim(0,100)\n",
    "plt.xlabel('Traços Extras', fontsize = 18)\n",
    "plt.ylabel('Eventos', fontsize = 18)\n",
    "plt.yscale('log')\n",
    "plt.plot = hep.cms.label(llabel=\"Preliminary\", rlabel=\"$9.792 fb^{-1}$\", ax = axes[0] , fontsize = 18)"
   ]
  },
  {
   "cell_type": "code",
   "execution_count": null,
   "metadata": {},
   "outputs": [],
   "source": []
  }
 ],
 "metadata": {
  "kernelspec": {
   "display_name": "Python 3",
   "language": "python",
   "name": "python3"
  },
  "language_info": {
   "codemirror_mode": {
    "name": "ipython",
    "version": 3
   },
   "file_extension": ".py",
   "mimetype": "text/x-python",
   "name": "python",
   "nbconvert_exporter": "python",
   "pygments_lexer": "ipython3",
   "version": "3.7.6"
  }
 },
 "nbformat": 4,
 "nbformat_minor": 4
}
